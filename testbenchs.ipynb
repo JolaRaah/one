{
 "metadata": {
  "name": "",
  "signature": "sha256:1a9ca438e7e5a52fa715a7a257ea28a4f653c12dd79cab93d4cf3eb3ad2e0fe7"
 },
 "nbformat": 3,
 "nbformat_minor": 0,
 "worksheets": [
  {
   "cells": [
    {
     "cell_type": "code",
     "collapsed": false,
     "input": [
      "# functions taken from this http://stackoverflow.com/a/16801638\n",
      "\n",
      "from itertools import ifilter, islice\n",
      "\n",
      "def OP(l):\n",
      "    true_found = False\n",
      "    for v in l:\n",
      "        if v and not true_found:\n",
      "            true_found=True\n",
      "        elif v and true_found:\n",
      "             return False #\"Too Many Trues\"\n",
      "    return true_found\n",
      "\n",
      "def DavidRobinson(l):\n",
      "    return l.count(True) == 1\n",
      "\n",
      "def FJ(l):\n",
      "    return len(list(islice(ifilter(None, l), 2))) == 1\n",
      "\n",
      "def JonClements(iterable):\n",
      "    i = iter(iterable)\n",
      "    return any(i) and not any(i)\n",
      "\n",
      "def moooeeeep(l):\n",
      "    true_found = False\n",
      "    for v in l:\n",
      "        if v:\n",
      "            if true_found:\n",
      "                # found too many True's\n",
      "                return False \n",
      "            else:\n",
      "                # found the first True\n",
      "                true_found = v\n",
      "    # found zero or one True value\n",
      "    return true_found\n",
      "\n",
      "\n",
      "def facubatista_one(iterable):\n",
      "    iterable = iter(iterable)\n",
      "    for item in iterable:\n",
      "        if item:\n",
      "            break\n",
      "    else:\n",
      "        return False\n",
      "    if any(iterable):\n",
      "        return False\n",
      "    return item\n",
      "\n",
      "\n",
      "from one import one"
     ],
     "language": "python",
     "metadata": {},
     "outputs": [],
     "prompt_number": 1
    },
    {
     "cell_type": "code",
     "collapsed": false,
     "input": [
      "l1 = [0, 0, 0, 'hi', 0, 0, 0]"
     ],
     "language": "python",
     "metadata": {},
     "outputs": [],
     "prompt_number": 2
    },
    {
     "cell_type": "code",
     "collapsed": false,
     "input": [
      "# return boolean \n",
      "%timeit OP(l1)\n",
      "%timeit DavidRobinson(l1)\n",
      "%timeit FJ(l1)\n",
      "%timeit JonClements(l1)"
     ],
     "language": "python",
     "metadata": {},
     "outputs": [
      {
       "output_type": "stream",
       "stream": "stdout",
       "text": [
        "1000000 loops, best of 3: 568 ns per loop\n",
        "1000000 loops, best of 3: 334 ns per loop"
       ]
      },
      {
       "output_type": "stream",
       "stream": "stdout",
       "text": [
        "\n",
        "1000000 loops, best of 3: 1.1 \u00b5s per loop"
       ]
      },
      {
       "output_type": "stream",
       "stream": "stdout",
       "text": [
        "\n",
        "1000000 loops, best of 3: 321 ns per loop"
       ]
      },
      {
       "output_type": "stream",
       "stream": "stdout",
       "text": [
        "\n"
       ]
      }
     ],
     "prompt_number": 3
    },
    {
     "cell_type": "code",
     "collapsed": false,
     "input": [
      "# return the item\n",
      "%timeit moooeeeep(l1)\n",
      "%timeit facubatista_one(l1)\n",
      "%timeit one(l1)  # the current one implementation"
     ],
     "language": "python",
     "metadata": {},
     "outputs": [
      {
       "output_type": "stream",
       "stream": "stdout",
       "text": [
        "1000000 loops, best of 3: 346 ns per loop\n",
        "1000000 loops, best of 3: 378 ns per loop"
       ]
      },
      {
       "output_type": "stream",
       "stream": "stdout",
       "text": [
        "\n",
        "1000000 loops, best of 3: 452 ns per loop"
       ]
      },
      {
       "output_type": "stream",
       "stream": "stdout",
       "text": [
        "\n"
       ]
      }
     ],
     "prompt_number": 4
    },
    {
     "cell_type": "code",
     "collapsed": false,
     "input": [
      "l2 = [False for i in xrange(100000)] + [True]"
     ],
     "language": "python",
     "metadata": {},
     "outputs": [],
     "prompt_number": 7
    },
    {
     "cell_type": "code",
     "collapsed": false,
     "input": [
      "# return the item\n",
      "%timeit moooeeeep(l2)\n",
      "%timeit facubatista_one(l2)\n",
      "%timeit one(l2)  # the current one implementation"
     ],
     "language": "python",
     "metadata": {},
     "outputs": [
      {
       "output_type": "stream",
       "stream": "stdout",
       "text": [
        "1000 loops, best of 3: 1.44 ms per loop\n",
        "1000 loops, best of 3: 1.44 ms per loop"
       ]
      },
      {
       "output_type": "stream",
       "stream": "stdout",
       "text": [
        "\n",
        "100 loops, best of 3: 2.5 ms per loop"
       ]
      },
      {
       "output_type": "stream",
       "stream": "stdout",
       "text": [
        "\n"
       ]
      }
     ],
     "prompt_number": 8
    },
    {
     "cell_type": "code",
     "collapsed": false,
     "input": [],
     "language": "python",
     "metadata": {},
     "outputs": []
    }
   ],
   "metadata": {}
  }
 ]
}